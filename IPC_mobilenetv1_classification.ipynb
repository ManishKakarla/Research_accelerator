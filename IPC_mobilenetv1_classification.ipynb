{
 "cells": [
  {
   "cell_type": "code",
   "execution_count": 3,
   "id": "0744a0f3-7c69-4c25-8874-3ea5dfa3c3c7",
   "metadata": {},
   "outputs": [],
   "source": [
    "import tensorflow as tf"
   ]
  },
  {
   "cell_type": "code",
   "execution_count": 4,
   "id": "196089e0-7313-40c6-9f08-93e0d12042a8",
   "metadata": {},
   "outputs": [
    {
     "data": {
      "text/plain": [
       "True"
      ]
     },
     "execution_count": 4,
     "metadata": {},
     "output_type": "execute_result"
    }
   ],
   "source": [
    "tf.test.is_gpu_available()"
   ]
  },
  {
   "cell_type": "code",
   "execution_count": 5,
   "id": "44729a27-c286-4d94-b895-c766b143182d",
   "metadata": {},
   "outputs": [
    {
     "name": "stdout",
     "output_type": "stream",
     "text": [
      "/device:DML:0\n",
      "Found GPU at: /device:DML:0\n"
     ]
    }
   ],
   "source": [
    "#%tensorflow_version 2.x\n",
    "import tensorflow as tf\n",
    "device_name = tf.test.gpu_device_name()\n",
    "print(device_name)\n",
    "if device_name != '/device:DML:0':\n",
    "  raise SystemError('GPU device not found')\n",
    "print('Found GPU at: {}'.format(device_name))"
   ]
  },
  {
   "cell_type": "code",
   "execution_count": 6,
   "id": "6592d869-ae0f-4652-bef5-5ef6777beb88",
   "metadata": {},
   "outputs": [
    {
     "data": {
      "text/plain": [
       "<function tensorflow.python.framework.config.set_visible_devices(devices, device_type=None)>"
      ]
     },
     "execution_count": 6,
     "metadata": {},
     "output_type": "execute_result"
    }
   ],
   "source": [
    "tf.compat.v1.config.experimental.set_visible_devices"
   ]
  },
  {
   "cell_type": "code",
   "execution_count": 35,
   "id": "4282411f-e8b1-4004-8479-1ecc697dcd86",
   "metadata": {},
   "outputs": [],
   "source": [
    "import tensorflow as tf\n",
    "import numpy as np\n",
    "from tensorflow.python.keras.utils.vis_utils import plot_model\n",
    "import math\n",
    "from tensorflow.keras.layers import Layer\n",
    "from tensorflow import keras"
   ]
  },
  {
   "cell_type": "code",
   "execution_count": 36,
   "id": "17512305-44aa-4fdb-8b4a-41845983d4da",
   "metadata": {},
   "outputs": [],
   "source": [
    "import tensorflow.compat.v1 as tf\n",
    "tf.disable_v2_behavior()\n"
   ]
  },
  {
   "cell_type": "code",
   "execution_count": 37,
   "id": "a0ef3d59-1601-444c-b78b-68643fc13ad4",
   "metadata": {},
   "outputs": [],
   "source": [
    "from tensorflow.python.ops.gradients_impl import gradients\n",
    "class IPC(keras.Model):\n",
    "\n",
    "    def __init__(self, filters,k,alpha):\n",
    "        '''Initializes the class and sets up the internal variables'''\n",
    "        # YOUR CODE HERE\n",
    "\n",
    "        super(IPC,self).__init__()\n",
    "        print(\"starting the  Improve convolution block\")\n",
    "        #self.inputs=inputs\n",
    "        #self.input_shap=self.inputs.shape\n",
    "        self.filters=filters\n",
    "        self.filters1=int(self.filters*alpha)\n",
    "        self.filters2=int(self.filters*(1-alpha))\n",
    "        self.k=k\n",
    "        self.alpha=alpha\n",
    "        self.z_i=None\n",
    "        self.seed=None\n",
    "        self.activated_beta=None\n",
    "        self.input_shap=(8,8,512)\n",
    "    \n",
    "    def build(self,inputs):\n",
    "        '''Create the state of the layer (weights)'''\n",
    "        self.pointwise1=tf.keras.layers.Conv2D(self.filters2,1,strides=1,use_bias=False)\n",
    "        seed_init=tf.random_uniform_initializer(minval=-1, maxval=0)\n",
    "        seed_init_val=seed_init(shape=(50,1,self.input_shap[-1],1),dtype='float32')\n",
    "        \"\"\"\n",
    "        need to initialize a seed with shape (batch size,1,512,1) \n",
    "        \"\"\"\n",
    "     \n",
    "        self.seed=tf.Variable(initial_value=seed_init_val,trainable=True)\n",
    "        self.seed=tf.placeholder_with_default(self.seed,[None]+[i for i in self.seed.shape[1:]])\n",
    "        self.z_i=self.seed*self.alpha\n",
    "        self.pointwise2=tf.keras.layers.Conv2D(self.filters1,1,strides=1,use_bias=False)\n",
    "        self.convbeta=tf.keras.layers.Conv2D(self.k,(1,self.filters1+1),strides=1,padding='valid',use_bias=False)\n",
    "        \n",
    "   \n",
    "    def call(self,inputs):\n",
    "        '''Defines the computation from inputs to outputs'''\n",
    "        inpu_shape=inputs.shape\n",
    "\n",
    "        with tf.GradientTape() as tape:\n",
    "          beta=self.convbeta(self.z_i)\n",
    "\n",
    "          self.activated_beta=tf.math.tanh(beta)\n",
    "        pw1=self.pointwise1(inputs)\n",
    "        pw1=tf.keras.layers.BatchNormalization()(pw1)\n",
    "        pw1=tf.keras.layers.Activation('tanh')(pw1)\n",
    "        shape1=pw1.shape\n",
    "        pw2=self.pointwise2(self.activated_beta)\n",
    "        pw2=tf.keras.layers.BatchNormalization()(pw2)\n",
    "        pw2=tf.keras.layers.Activation('tanh')(pw2)\n",
    "\n",
    "        shape=pw2.shape\n",
    "        pw2_reshape=tf.reshape(pw2,(-1,inpu_shape[1],inpu_shape[2]\n",
    "                                    ,(shape[1]*shape[2]*shape[3])//(inpu_shape[1]*inpu_shape[2])))\n",
    "       \n",
    "        return tf.keras.layers.Concatenate(axis=3)([pw1, pw2_reshape])\n",
    "\n",
    "\n",
    "    def train_step(self, inputs,targets):\n",
    "        #inputs, targets = data\n",
    "        with tf.GradientTape() as tape:\n",
    "            predictions = self(inputs, training=True)\n",
    "            loss = self.compiled_loss(targets, predictions)               \n",
    "        gradients = tape.gradient(loss, self.trainable_weights)\n",
    "        self.optimizer.apply_gradients(zip(gradients, self.trainable_weights))\n",
    "        self.compiled_metrics.update_state(targets, predictions) \n",
    "        #print(m)\n",
    "        return {m.name: m.result() for m in self.metrics}        "
   ]
  },
  {
   "cell_type": "code",
   "execution_count": 38,
   "id": "4d0edfe3-4974-43a3-85e4-c830e365713d",
   "metadata": {},
   "outputs": [
    {
     "name": "stdout",
     "output_type": "stream",
     "text": [
      "? 8 8 512\n",
      "starting the  Improve convolution block\n",
      "Model: \"model_8\"\n",
      "_________________________________________________________________\n",
      "Layer (type)                 Output Shape              Param #   \n",
      "=================================================================\n",
      "input_11 (InputLayer)        [(None, 8, 8, 512)]       0         \n",
      "_________________________________________________________________\n",
      "depthwise_conv2d_74 (Depthwi (None, 8, 8, 512)         4608      \n",
      "_________________________________________________________________\n",
      "ipc_39 (IPC)                 (None, 8, 8, 512)         40841     \n",
      "=================================================================\n",
      "Total params: 45,449\n",
      "Trainable params: 45,449\n",
      "Non-trainable params: 0\n",
      "_________________________________________________________________\n"
     ]
    }
   ],
   "source": [
    "input=tf.keras.layers.Input((8,8,512) )\n",
    "x1 = tf.keras.layers.DepthwiseConv2D(3, strides=1, padding='same',use_bias=False)(input)\n",
    "n,h,w,c=x1.shape\n",
    "print(n,h,w,c)\n",
    "a=IPC(512,9,0.875)\n",
    "outputs=a(x1)\n",
    "#a.train_step(x1,outputs)\n",
    "#print(f'output{a(x1).shape}')\n",
    "model= tf.keras.models.Model(input, outputs=outputs)\n",
    "model.summary()"
   ]
  },
  {
   "cell_type": "code",
   "execution_count": 40,
   "id": "f75ad57a-3d0a-49f9-862e-f9040d4f7444",
   "metadata": {},
   "outputs": [],
   "source": [
    "def mobilenet_block(x, f, s=1):\n",
    "    x = tf.keras.layers.DepthwiseConv2D(3, strides=s, padding='same')(x)\n",
    "    x = tf.keras.layers.BatchNormalization()(x)\n",
    "    x = tf.keras.layers.Activation('relu')(x)\n",
    "    \n",
    "    x = tf.keras.layers.Conv2D(f, 1, strides=1, padding='same')(x)\n",
    "    x = tf.keras.layers.BatchNormalization()(x)\n",
    "    x =tf.keras.layers.Activation('relu')(x)\n",
    "    return x"
   ]
  },
  {
   "cell_type": "code",
   "execution_count": 41,
   "id": "32fc4d62-a854-4af9-80ab-18011571c10a",
   "metadata": {},
   "outputs": [],
   "source": [
    "\n",
    "def ManishNet(input_shape, n_classes):\n",
    "\n",
    "    \"\"\"\n",
    "    Manish's variation of MobileNetV1\n",
    "    \"\"\"\n",
    "\n",
    "    input = tf.keras.layers.Input(input_shape)\n",
    "    x = tf.keras.layers.Conv2D(32, 3, strides=1, padding='same')(input)\n",
    "    #print(\"conv2d --1\",x.shape)\n",
    "    x = tf.keras.layers.BatchNormalization()(x)\n",
    "    #print(\"batchNormalzation\",x.shape)\n",
    "    x = tf.keras.layers.Activation('relu')(x)\n",
    "    #print(\"activation\",x.shape)\n",
    "    x = mobilenet_block(x, 64)\n",
    "    x = mobilenet_block(x, 64,2)\n",
    "    #print(\"1st mobilenetblock_1\",x.shape)\n",
    "    x = mobilenet_block(x, 128, 1)\n",
    "    #print(\"2nd mobilenetblock_2\",x.shape)\n",
    "    x = mobilenet_block(x, 128)\n",
    "    #print(\"3rd mobilenetblock_3\",x.shape)\n",
    "\n",
    "    x = mobilenet_block(x, 256)\n",
    "    #print(\"4th mobilenetblock_4\",x.shape)\n",
    "    x = mobilenet_block(x, 256,2)\n",
    "    #print(\"5th mobilenet_block_5\",x.shape)\n",
    "\n",
    "    x = mobilenet_block(x, 512, 1)\n",
    "\n",
    "\n",
    "    #print(\"6th mobilenetblock_6\",x.shape)\n",
    "    for i in range(5):\n",
    "\n",
    "        x = tf.keras.layers.DepthwiseConv2D(3, strides=1, padding='same',use_bias=False)(x)\n",
    "        a = IPC(512,alpha=0.875,k=9)\n",
    "        x=a(x)\n",
    "    # print(\"jjjjjjjjjjjjjjjjjjjjjjjjjjjjjjjjjjjjjjjjjjjjjjjjjjjjjj\",x.shape)\n",
    "    #print(f\"{i+7} Improvedblock shape {x.shape}\")\n",
    "\n",
    "\n",
    "    x = tf.keras.layers.DepthwiseConv2D(3, strides=1, padding='same',use_bias=False)(x)\n",
    "    a = IPC(512,alpha=0.875,k=9)(x)\n",
    "    # x=a(x)\n",
    "    #print(\"12 IPC\",x.shape)\n",
    "\n",
    "    x = tf.keras.layers.DepthwiseConv2D(3, strides=1, padding='same',use_bias=False)(x)\n",
    "    a = IPC(512,alpha=0.875,k=9)(x)\n",
    "    #x=a(x)\n",
    "    print(\"13 IPC\",x.shape)\n",
    "\n",
    "    x = tf.keras.layers.GlobalAvgPool2D()(x)\n",
    "    # x = tf.keras.layers.AveragePooling2D()(x)\n",
    "\n",
    "    output = tf.keras.layers.Dense(n_classes, activation='softmax')(x)\n",
    "    print(output.shape)\n",
    "\n",
    "    model = tf.keras.models.Model(input, output)\n",
    "    return model\n"
   ]
  },
  {
   "cell_type": "code",
   "execution_count": 42,
   "id": "41e2125c-282a-46e2-9fc6-d5eb5da9cc94",
   "metadata": {},
   "outputs": [
    {
     "name": "stdout",
     "output_type": "stream",
     "text": [
      "starting the  Improve convolution block\n",
      "starting the  Improve convolution block\n",
      "starting the  Improve convolution block\n",
      "starting the  Improve convolution block\n",
      "starting the  Improve convolution block\n",
      "starting the  Improve convolution block\n",
      "starting the  Improve convolution block\n",
      "13 IPC (?, 8, 8, 512)\n",
      "(?, 10)\n",
      "Model: \"model_9\"\n",
      "_________________________________________________________________\n",
      "Layer (type)                 Output Shape              Param #   \n",
      "=================================================================\n",
      "input_12 (InputLayer)        [(None, 32, 32, 3)]       0         \n",
      "_________________________________________________________________\n",
      "conv2d_161 (Conv2D)          (None, 32, 32, 32)        896       \n",
      "_________________________________________________________________\n",
      "batch_normalization_110 (Bat (None, 32, 32, 32)        128       \n",
      "_________________________________________________________________\n",
      "activation_110 (Activation)  (None, 32, 32, 32)        0         \n",
      "_________________________________________________________________\n",
      "depthwise_conv2d_75 (Depthwi (None, 32, 32, 32)        320       \n",
      "_________________________________________________________________\n",
      "batch_normalization_111 (Bat (None, 32, 32, 32)        128       \n",
      "_________________________________________________________________\n",
      "activation_111 (Activation)  (None, 32, 32, 32)        0         \n",
      "_________________________________________________________________\n",
      "conv2d_162 (Conv2D)          (None, 32, 32, 64)        2112      \n",
      "_________________________________________________________________\n",
      "batch_normalization_112 (Bat (None, 32, 32, 64)        256       \n",
      "_________________________________________________________________\n",
      "activation_112 (Activation)  (None, 32, 32, 64)        0         \n",
      "_________________________________________________________________\n",
      "depthwise_conv2d_76 (Depthwi (None, 16, 16, 64)        640       \n",
      "_________________________________________________________________\n",
      "batch_normalization_113 (Bat (None, 16, 16, 64)        256       \n",
      "_________________________________________________________________\n",
      "activation_113 (Activation)  (None, 16, 16, 64)        0         \n",
      "_________________________________________________________________\n",
      "conv2d_163 (Conv2D)          (None, 16, 16, 64)        4160      \n",
      "_________________________________________________________________\n",
      "batch_normalization_114 (Bat (None, 16, 16, 64)        256       \n",
      "_________________________________________________________________\n",
      "activation_114 (Activation)  (None, 16, 16, 64)        0         \n",
      "_________________________________________________________________\n",
      "depthwise_conv2d_77 (Depthwi (None, 16, 16, 64)        640       \n",
      "_________________________________________________________________\n",
      "batch_normalization_115 (Bat (None, 16, 16, 64)        256       \n",
      "_________________________________________________________________\n",
      "activation_115 (Activation)  (None, 16, 16, 64)        0         \n",
      "_________________________________________________________________\n",
      "conv2d_164 (Conv2D)          (None, 16, 16, 128)       8320      \n",
      "_________________________________________________________________\n",
      "batch_normalization_116 (Bat (None, 16, 16, 128)       512       \n",
      "_________________________________________________________________\n",
      "activation_116 (Activation)  (None, 16, 16, 128)       0         \n",
      "_________________________________________________________________\n",
      "depthwise_conv2d_78 (Depthwi (None, 16, 16, 128)       1280      \n",
      "_________________________________________________________________\n",
      "batch_normalization_117 (Bat (None, 16, 16, 128)       512       \n",
      "_________________________________________________________________\n",
      "activation_117 (Activation)  (None, 16, 16, 128)       0         \n",
      "_________________________________________________________________\n",
      "conv2d_165 (Conv2D)          (None, 16, 16, 128)       16512     \n",
      "_________________________________________________________________\n",
      "batch_normalization_118 (Bat (None, 16, 16, 128)       512       \n",
      "_________________________________________________________________\n",
      "activation_118 (Activation)  (None, 16, 16, 128)       0         \n",
      "_________________________________________________________________\n",
      "depthwise_conv2d_79 (Depthwi (None, 16, 16, 128)       1280      \n",
      "_________________________________________________________________\n",
      "batch_normalization_119 (Bat (None, 16, 16, 128)       512       \n",
      "_________________________________________________________________\n",
      "activation_119 (Activation)  (None, 16, 16, 128)       0         \n",
      "_________________________________________________________________\n",
      "conv2d_166 (Conv2D)          (None, 16, 16, 256)       33024     \n",
      "_________________________________________________________________\n",
      "batch_normalization_120 (Bat (None, 16, 16, 256)       1024      \n",
      "_________________________________________________________________\n",
      "activation_120 (Activation)  (None, 16, 16, 256)       0         \n",
      "_________________________________________________________________\n",
      "depthwise_conv2d_80 (Depthwi (None, 8, 8, 256)         2560      \n",
      "_________________________________________________________________\n",
      "batch_normalization_121 (Bat (None, 8, 8, 256)         1024      \n",
      "_________________________________________________________________\n",
      "activation_121 (Activation)  (None, 8, 8, 256)         0         \n",
      "_________________________________________________________________\n",
      "conv2d_167 (Conv2D)          (None, 8, 8, 256)         65792     \n",
      "_________________________________________________________________\n",
      "batch_normalization_122 (Bat (None, 8, 8, 256)         1024      \n",
      "_________________________________________________________________\n",
      "activation_122 (Activation)  (None, 8, 8, 256)         0         \n",
      "_________________________________________________________________\n",
      "depthwise_conv2d_81 (Depthwi (None, 8, 8, 256)         2560      \n",
      "_________________________________________________________________\n",
      "batch_normalization_123 (Bat (None, 8, 8, 256)         1024      \n",
      "_________________________________________________________________\n",
      "activation_123 (Activation)  (None, 8, 8, 256)         0         \n",
      "_________________________________________________________________\n",
      "conv2d_168 (Conv2D)          (None, 8, 8, 512)         131584    \n",
      "_________________________________________________________________\n",
      "batch_normalization_124 (Bat (None, 8, 8, 512)         2048      \n",
      "_________________________________________________________________\n",
      "activation_124 (Activation)  (None, 8, 8, 512)         0         \n",
      "_________________________________________________________________\n",
      "depthwise_conv2d_82 (Depthwi (None, 8, 8, 512)         4608      \n",
      "_________________________________________________________________\n",
      "ipc_40 (IPC)                 (None, 8, 8, 512)         40841     \n",
      "_________________________________________________________________\n",
      "depthwise_conv2d_83 (Depthwi (None, 8, 8, 512)         4608      \n",
      "_________________________________________________________________\n",
      "ipc_41 (IPC)                 (None, 8, 8, 512)         40841     \n",
      "_________________________________________________________________\n",
      "depthwise_conv2d_84 (Depthwi (None, 8, 8, 512)         4608      \n",
      "_________________________________________________________________\n",
      "ipc_42 (IPC)                 (None, 8, 8, 512)         40841     \n",
      "_________________________________________________________________\n",
      "depthwise_conv2d_85 (Depthwi (None, 8, 8, 512)         4608      \n",
      "_________________________________________________________________\n",
      "ipc_43 (IPC)                 (None, 8, 8, 512)         40841     \n",
      "_________________________________________________________________\n",
      "depthwise_conv2d_86 (Depthwi (None, 8, 8, 512)         4608      \n",
      "_________________________________________________________________\n",
      "ipc_44 (IPC)                 (None, 8, 8, 512)         40841     \n",
      "_________________________________________________________________\n",
      "depthwise_conv2d_87 (Depthwi (None, 8, 8, 512)         4608      \n",
      "_________________________________________________________________\n",
      "depthwise_conv2d_88 (Depthwi (None, 8, 8, 512)         4608      \n",
      "_________________________________________________________________\n",
      "global_average_pooling2d_5 ( (None, 512)               0         \n",
      "_________________________________________________________________\n",
      "dense_5 (Dense)              (None, 10)                5130      \n",
      "=================================================================\n",
      "Total params: 522,743\n",
      "Trainable params: 518,007\n",
      "Non-trainable params: 4,736\n",
      "_________________________________________________________________\n"
     ]
    }
   ],
   "source": [
    "input_shape=32,32,3\n",
    "n_classes=10\n",
    "model=ManishNet(input_shape, n_classes)\n",
    "model.summary()"
   ]
  },
  {
   "cell_type": "code",
   "execution_count": 31,
   "id": "afc2a50f-7851-4351-b643-59d37867cd6e",
   "metadata": {},
   "outputs": [
    {
     "name": "stdout",
     "output_type": "stream",
     "text": [
      "starting the  Improve convolution block\n",
      "pointwise1(?, 8, 8, 64)\n",
      "after applying ptwise (?, 1, 64, 448)\n",
      "after reshaping (?, 8, 8, 448)\n",
      "starting the  Improve convolution block\n",
      "pointwise1(?, 8, 8, 64)\n",
      "after applying ptwise (?, 1, 64, 448)\n",
      "after reshaping (?, 8, 8, 448)\n",
      "starting the  Improve convolution block\n",
      "pointwise1(?, 8, 8, 64)\n",
      "after applying ptwise (?, 1, 64, 448)\n",
      "after reshaping (?, 8, 8, 448)\n",
      "starting the  Improve convolution block\n",
      "pointwise1(?, 8, 8, 64)\n",
      "after applying ptwise (?, 1, 64, 448)\n",
      "after reshaping (?, 8, 8, 448)\n",
      "starting the  Improve convolution block\n",
      "pointwise1(?, 8, 8, 64)\n",
      "after applying ptwise (?, 1, 64, 448)\n",
      "after reshaping (?, 8, 8, 448)\n",
      "starting the  Improve convolution block\n",
      "pointwise1(?, 8, 8, 64)\n",
      "after applying ptwise (?, 1, 64, 448)\n",
      "after reshaping (?, 8, 8, 448)\n",
      "starting the  Improve convolution block\n",
      "pointwise1(?, 8, 8, 64)\n",
      "after applying ptwise (?, 1, 64, 448)\n",
      "after reshaping (?, 8, 8, 448)\n",
      "13 IPC (?, 8, 8, 512)\n",
      "(?, 10)\n",
      "(50000, 32, 32, 3)\n"
     ]
    }
   ],
   "source": [
    "input_shape=32,32,3\n",
    "n_classes=10\n",
    "model=ManishNet(input_shape, n_classes)\n",
    "(x_train, y_train), (x_test, y_test) = keras.datasets.cifar10.load_data()\n",
    "x_train=x_train.astype('float32')\n",
    "x_train/=255\n",
    "x_test=x_test.astype('float32')\n",
    "x_test/=255\n",
    "print(x_train.shape)\n",
    "model.compile( loss='sparse_categorical_crossentropy', optimizer=tf.keras.optimizers.Adam( learning_rate=0.001 ) , metrics=[ 'acc' ] )"
   ]
  },
  {
   "cell_type": "code",
   "execution_count": 32,
   "id": "a0931085-115e-48b0-9498-07976c3de730",
   "metadata": {},
   "outputs": [
    {
     "name": "stdout",
     "output_type": "stream",
     "text": [
      "Train on 50000 samples\n",
      "Epoch 1/2\n",
      "50000/50000 [==============================] - 46s 930us/sample - loss: 1.7503 - acc: 0.3053\n",
      "Epoch 2/2\n",
      "50000/50000 [==============================] - 45s 903us/sample - loss: 1.2949 - acc: 0.5247\n"
     ]
    },
    {
     "data": {
      "text/plain": [
       "<tensorflow.python.keras.callbacks.History at 0x236192e1f28>"
      ]
     },
     "execution_count": 32,
     "metadata": {},
     "output_type": "execute_result"
    }
   ],
   "source": [
    "model.fit(x_train,y_train,shuffle=True,batch_size=50,epochs=2)"
   ]
  },
  {
   "cell_type": "code",
   "execution_count": null,
   "id": "55872775-1fcf-4c19-841c-8639b3090875",
   "metadata": {},
   "outputs": [],
   "source": []
  }
 ],
 "metadata": {
  "kernelspec": {
   "display_name": "Python [conda env:tfdml]",
   "language": "python",
   "name": "conda-env-tfdml-py"
  },
  "language_info": {
   "codemirror_mode": {
    "name": "ipython",
    "version": 3
   },
   "file_extension": ".py",
   "mimetype": "text/x-python",
   "name": "python",
   "nbconvert_exporter": "python",
   "pygments_lexer": "ipython3",
   "version": "3.6.13"
  }
 },
 "nbformat": 4,
 "nbformat_minor": 5
}
