{
  "nbformat": 4,
  "nbformat_minor": 0,
  "metadata": {
    "colab": {
      "name": "Custom_layers.ipynb",
      "provenance": [],
      "authorship_tag": "ABX9TyP8BObiCtN8QaaaljTo0yus",
      "include_colab_link": true
    },
    "kernelspec": {
      "name": "python3",
      "display_name": "Python 3"
    },
    "language_info": {
      "name": "python"
    }
  },
  "cells": [
    {
      "cell_type": "markdown",
      "metadata": {
        "id": "view-in-github",
        "colab_type": "text"
      },
      "source": [
        "<a href=\"https://colab.research.google.com/github/manishkakarla/Research_accelerator/blob/master/Custom_layers.ipynb\" target=\"_parent\"><img src=\"https://colab.research.google.com/assets/colab-badge.svg\" alt=\"Open In Colab\"/></a>"
      ]
    },
    {
      "cell_type": "code",
      "source": [
        "import tensorflow as tf\n",
        "import numpy as np\n",
        "from tensorflow.python.keras.utils.vis_utils import plot_model\n",
        "import math\n",
        "from tensorflow.keras.layers import Layer\n",
        "from tensorflow import keras"
      ],
      "metadata": {
        "id": "vzQHQRA7Jv8f"
      },
      "execution_count": 48,
      "outputs": []
    },
    {
      "cell_type": "code",
      "execution_count": 48,
      "metadata": {
        "id": "Ld6K_eYdgXnN"
      },
      "outputs": [],
      "source": [
        ""
      ]
    },
    {
      "cell_type": "code",
      "source": [
        ""
      ],
      "metadata": {
        "id": "hg6GvBATKZmp"
      },
      "execution_count": 48,
      "outputs": []
    },
    {
      "cell_type": "code",
      "source": [
        "class IPC(keras.Model):\n",
        "\n",
        "    def __init__(self, filters,k,alpha):\n",
        "        '''Initializes the class and sets up the internal variables'''\n",
        "        # YOUR CODE HERE\n",
        "        super(IPC,self).__init__()\n",
        "        #self.inputs=inputs\n",
        "        #self.input_shap=self.inputs.shape\n",
        "        self.filters=filters\n",
        "        self.filters1=int(self.filters*alpha)\n",
        "        self.filters2=int(self.filters*(1-alpha))\n",
        "        self.k=k\n",
        "        self.alpha=alpha\n",
        "        self.z_i=None\n",
        "        self.seed=None\n",
        "        self.activated_beta=None\n",
        "        self.input_shap=(8,8,512)\n",
        "    \n",
        "    #def build(self,inputs):\n",
        "        '''Create the state of the layer (weights)'''\n",
        "        # a and b should be initialized with random normal, c (or the bias) with zeros.\n",
        "        # remember to set these as trainable.\n",
        "        # YOUR CODE HERE\n",
        "        self.pointwise1=tf.keras.layers.Conv2D(self.filters2,1,strides=1,use_bias=False)\n",
        "        \n",
        "        seed_init=tf.random_uniform_initializer(minval=-1, maxval=0)\n",
        "        seed_init_val=seed_init(shape=(1,1,self.input_shap[-1],1),dtype='float32')\n",
        "        #initializer = RandomUniform(-1, 1)\n",
        "        #config = initializer.get_config()\n",
        "        #initializer = RandomUniform.from_config(config)\n",
        "        self.seed=tf.Variable(initial_value=seed_init_val,trainable=True)\n",
        "        self.z_i=tf.math.multiply(self.seed,self.alpha)\n",
        "\n",
        "      #print(self.seed)\n",
        "        #print(self.alpha)\n",
        "        #self.Z_i=tf.math.multiply(self.seed,self.alpha)\n",
        "        #print(self.alpha)\n",
        "       # self.tanh=tf.math.tanh(self.beta)\n",
        "        \n",
        "        self.pointwise2=tf.keras.layers.Conv2D(self.filters1,1,strides=1,use_bias=False)\n",
        "        self.convbeta=tf.keras.layers.Conv2D(self.k,(1,self.filters1+1),strides=1,padding='valid')\n",
        "        \n",
        "      \n",
        "   \n",
        "    def call(self,inputs):\n",
        "        '''Defines the computation from inputs to outputs'''\n",
        "        # YOUR CODE HERE\n",
        "        #x^2a + xb + c.\n",
        "        inpu_shape=inputs.shape\n",
        "        print(self.z_i.shape)\n",
        "        beta=self.convbeta(self.z_i)\n",
        "        print(f'beta shs{beta.shape}')\n",
        "        self.activated_beta=tf.math.tanh(beta)\n",
        "        pw1=self.pointwise1(inputs)\n",
        "        print(f\"pointwise1{pw1.shape}\")\n",
        "        pw2=self.pointwise2(self.activated_beta)\n",
        "        print(f\"pointwiseshape2{pw2.shape}\")\n",
        "        shape=pw2.shape\n",
        "        pw2_reshape=tf.reshape(pw2,(1,inpu_shape[1],inpu_shape[2]\n",
        "                                    ,(shape[1]*shape[2]*shape[3])//(inpu_shape[1]*inpu_shape[2])))\n",
        "       \n",
        "        return tf.keras.layers.Concatenate(axis=3)([pw1, pw2_reshape])"
      ],
      "metadata": {
        "id": "C6wGVNTl2zUl"
      },
      "execution_count": 49,
      "outputs": []
    },
    {
      "cell_type": "code",
      "source": [
        "input=tf.keras.layers.Input((8,8,512) )\n",
        "\n",
        "x1 = tf.keras.layers.DepthwiseConv2D(3, strides=1, padding='same',use_bias=False)(input)\n",
        "print(x1)\n",
        "a=IPC(filters=512,alpha=0.875,k=9)\n",
        "print(f'output{a(x1).shape}')\n",
        "model= tf.keras.models.Model(input, outputs=a(x1))"
      ],
      "metadata": {
        "id": "nw9YHZbs6TzQ",
        "colab": {
          "base_uri": "https://localhost:8080/"
        },
        "outputId": "5efa9684-3c73-4944-c409-35265f5fa59f"
      },
      "execution_count": 50,
      "outputs": [
        {
          "output_type": "stream",
          "name": "stdout",
          "text": [
            "KerasTensor(type_spec=TensorSpec(shape=(None, 8, 8, 512), dtype=tf.float32, name=None), name='depthwise_conv2d_21/depthwise:0', description=\"created by layer 'depthwise_conv2d_21'\")\n",
            "(1, 1, 512, 1)\n",
            "beta shs(1, 1, 64, 9)\n",
            "pointwise1(None, 8, 8, 64)\n",
            "pointwiseshape2(1, 1, 64, 448)\n",
            "output(1, 8, 8, 512)\n",
            "(1, 1, 512, 1)\n",
            "beta shs(1, 1, 64, 9)\n",
            "pointwise1(None, 8, 8, 64)\n",
            "pointwiseshape2(1, 1, 64, 448)\n"
          ]
        }
      ]
    },
    {
      "cell_type": "code",
      "source": [
        "\n",
        "model.summary()"
      ],
      "metadata": {
        "id": "htDAg6Dt6nMF",
        "colab": {
          "base_uri": "https://localhost:8080/"
        },
        "outputId": "f278746a-53cb-4bef-ae54-d29f0a541ac0"
      },
      "execution_count": 51,
      "outputs": [
        {
          "output_type": "stream",
          "name": "stdout",
          "text": [
            "Model: \"model_3\"\n",
            "_________________________________________________________________\n",
            " Layer (type)                Output Shape              Param #   \n",
            "=================================================================\n",
            " input_22 (InputLayer)       [(None, 8, 8, 512)]       0         \n",
            "                                                                 \n",
            " depthwise_conv2d_21 (Depthw  (None, 8, 8, 512)        4608      \n",
            " iseConv2D)                                                      \n",
            "                                                                 \n",
            " ipc_23 (IPC)                (1, 8, 8, 512)            41362     \n",
            "                                                                 \n",
            "=================================================================\n",
            "Total params: 45,970\n",
            "Trainable params: 45,970\n",
            "Non-trainable params: 0\n",
            "_________________________________________________________________\n"
          ]
        }
      ]
    },
    {
      "cell_type": "code",
      "source": [
        ""
      ],
      "metadata": {
        "id": "VIMJMttRGv-a"
      },
      "execution_count": 51,
      "outputs": []
    },
    {
      "cell_type": "code",
      "source": [
        ""
      ],
      "metadata": {
        "id": "0OgEJmvtIFAy"
      },
      "execution_count": 51,
      "outputs": []
    },
    {
      "cell_type": "code",
      "source": [
        ""
      ],
      "metadata": {
        "id": "USlhCmiAIOOa"
      },
      "execution_count": 51,
      "outputs": []
    },
    {
      "cell_type": "code",
      "source": [
        ""
      ],
      "metadata": {
        "id": "wQK-MOQrINqQ"
      },
      "execution_count": 51,
      "outputs": []
    }
  ]
}